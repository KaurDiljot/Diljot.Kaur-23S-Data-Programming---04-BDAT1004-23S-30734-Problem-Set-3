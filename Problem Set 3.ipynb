{
 "cells": [
  {
   "cell_type": "markdown",
   "id": "144f5c04",
   "metadata": {},
   "source": [
    "# Question 1\n",
    "Introduction:\n",
    "Special thanks to: https://github.com/justmarkham for sharing the dataset and \n",
    "materials.\n",
    "Occupations\n",
    "Step 1. Import the necessary libraries\n",
    "Step 2. Import the dataset from this address.\n",
    "Step 3. Assign it to a variable called users\n",
    "Step 4. Discover what is the mean age per occupation\n",
    "Step 5. Discover the Male ratio per occupation and sort it from the most to the least\n",
    "Step 6. For each occupation, calculate the minimum and maximum ages\n",
    "Step 7. For each combination of occupation and sex, calculate the mean age\n",
    "Step 8. For each occupation present the percentage of women and men"
   ]
  },
  {
   "cell_type": "code",
   "execution_count": 1,
   "id": "9833f3f3",
   "metadata": {},
   "outputs": [],
   "source": [
    "import pandas as pd     # Step 1: Import the necessary libraries"
   ]
  },
  {
   "cell_type": "code",
   "execution_count": 2,
   "id": "c4f944ec",
   "metadata": {},
   "outputs": [],
   "source": [
    "dataset_url = 'https://raw.githubusercontent.com/justmarkham/DAT8/master/data/u.user'\n",
    "users = pd.read_csv(dataset_url, sep='|')"
   ]
  },
  {
   "cell_type": "code",
   "execution_count": 3,
   "id": "020b8753",
   "metadata": {},
   "outputs": [
    {
     "name": "stdout",
     "output_type": "stream",
     "text": [
      "occupation\n",
      "administrator    38.746835\n",
      "artist           31.392857\n",
      "doctor           43.571429\n",
      "educator         42.010526\n",
      "engineer         36.388060\n",
      "entertainment    29.222222\n",
      "executive        38.718750\n",
      "healthcare       41.562500\n",
      "homemaker        32.571429\n",
      "lawyer           36.750000\n",
      "librarian        40.000000\n",
      "marketing        37.615385\n",
      "none             26.555556\n",
      "other            34.523810\n",
      "programmer       33.121212\n",
      "retired          63.071429\n",
      "salesman         35.666667\n",
      "scientist        35.548387\n",
      "student          22.081633\n",
      "technician       33.148148\n",
      "writer           36.311111\n",
      "Name: age, dtype: float64\n"
     ]
    }
   ],
   "source": [
    "mean_age_per_occupation = users.groupby('occupation')['age'].mean()\n",
    "print(mean_age_per_occupation)\n",
    "#Step 3: Assign the dataset to a variable called 'users'\n",
    "#The dataset is now imported and assigned to the variable 'users'.\n",
    "#Step 4: Discover the mean age per occupation"
   ]
  },
  {
   "cell_type": "code",
   "execution_count": 4,
   "id": "43a8992c",
   "metadata": {},
   "outputs": [
    {
     "name": "stdout",
     "output_type": "stream",
     "text": [
      "occupation\n",
      "doctor           1.000000\n",
      "engineer         0.970149\n",
      "technician       0.962963\n",
      "retired          0.928571\n",
      "programmer       0.909091\n",
      "executive        0.906250\n",
      "scientist        0.903226\n",
      "entertainment    0.888889\n",
      "lawyer           0.833333\n",
      "salesman         0.750000\n",
      "educator         0.726316\n",
      "student          0.693878\n",
      "other            0.657143\n",
      "marketing        0.615385\n",
      "writer           0.577778\n",
      "none             0.555556\n",
      "administrator    0.544304\n",
      "artist           0.535714\n",
      "librarian        0.431373\n",
      "healthcare       0.312500\n",
      "homemaker        0.142857\n",
      "Name: male_ratio, dtype: float64\n"
     ]
    }
   ],
   "source": [
    "#Step 5: Discover the male ratio per occupation and sort it from most to least\n",
    "# Create a new DataFrame to store the male and female count per occupation\n",
    "gender_counts = users.groupby(['occupation', 'gender']).size().unstack().fillna(0)\n",
    "\n",
    "# Calculate the male ratio for each occupation\n",
    "gender_counts['male_ratio'] = gender_counts['M'] / (gender_counts['M'] + gender_counts['F'])\n",
    "\n",
    "# Sort the DataFrame by male ratio in descending order\n",
    "male_ratio_sorted = gender_counts.sort_vSalues('male_ratio', ascending=False)['male_ratio']\n",
    "print(male_ratio_sorted)"
   ]
  },
  {
   "cell_type": "code",
   "execution_count": 5,
   "id": "d1f4da84",
   "metadata": {},
   "outputs": [
    {
     "name": "stdout",
     "output_type": "stream",
     "text": [
      "               min  max\n",
      "occupation             \n",
      "administrator   21   70\n",
      "artist          19   48\n",
      "doctor          28   64\n",
      "educator        23   63\n",
      "engineer        22   70\n",
      "entertainment   15   50\n",
      "executive       22   69\n",
      "healthcare      22   62\n",
      "homemaker       20   50\n",
      "lawyer          21   53\n",
      "librarian       23   69\n",
      "marketing       24   55\n",
      "none            11   55\n",
      "other           13   64\n",
      "programmer      20   63\n",
      "retired         51   73\n",
      "salesman        18   66\n",
      "scientist       23   55\n",
      "student          7   42\n",
      "technician      21   55\n",
      "writer          18   60\n"
     ]
    }
   ],
   "source": [
    "#Step 6: For each occupation, calculate the minimum and maximum ages\n",
    "age_stats_per_occupation = users.groupby('occupation')['age'].agg(['min', 'max'])\n",
    "print(age_stats_per_occupation)"
   ]
  },
  {
   "cell_type": "code",
   "execution_count": 6,
   "id": "15b5d0f3",
   "metadata": {},
   "outputs": [
    {
     "name": "stdout",
     "output_type": "stream",
     "text": [
      "occupation     gender\n",
      "administrator  F         40.638889\n",
      "               M         37.162791\n",
      "artist         F         30.307692\n",
      "               M         32.333333\n",
      "doctor         M         43.571429\n",
      "educator       F         39.115385\n",
      "               M         43.101449\n",
      "engineer       F         29.500000\n",
      "               M         36.600000\n",
      "entertainment  F         31.000000\n",
      "               M         29.000000\n",
      "executive      F         44.000000\n",
      "               M         38.172414\n",
      "healthcare     F         39.818182\n",
      "               M         45.400000\n",
      "homemaker      F         34.166667\n",
      "               M         23.000000\n",
      "lawyer         F         39.500000\n",
      "               M         36.200000\n",
      "librarian      F         40.000000\n",
      "               M         40.000000\n",
      "marketing      F         37.200000\n",
      "               M         37.875000\n",
      "none           F         36.500000\n",
      "               M         18.600000\n",
      "other          F         35.472222\n",
      "               M         34.028986\n",
      "programmer     F         32.166667\n",
      "               M         33.216667\n",
      "retired        F         70.000000\n",
      "               M         62.538462\n",
      "salesman       F         27.000000\n",
      "               M         38.555556\n",
      "scientist      F         28.333333\n",
      "               M         36.321429\n",
      "student        F         20.750000\n",
      "               M         22.669118\n",
      "technician     F         38.000000\n",
      "               M         32.961538\n",
      "writer         F         37.631579\n",
      "               M         35.346154\n",
      "Name: age, dtype: float64\n"
     ]
    }
   ],
   "source": [
    "#Step 7: For each combination of occupation and sex, calculate the mean age\n",
    "mean_age_per_combination = users.groupby(['occupation', 'gender'])['age'].mean()\n",
    "print(mean_age_per_combination)"
   ]
  },
  {
   "cell_type": "code",
   "execution_count": 7,
   "id": "6cbc9970",
   "metadata": {},
   "outputs": [
    {
     "name": "stdout",
     "output_type": "stream",
     "text": [
      "gender         percentage_female  percentage_male  total_count\n",
      "occupation                                                    \n",
      "administrator           0.455696         0.544304           79\n",
      "artist                  0.464286         0.535714           28\n",
      "doctor                  0.000000         1.000000            7\n",
      "educator                0.273684         0.726316           95\n",
      "engineer                0.029851         0.970149           67\n",
      "entertainment           0.111111         0.888889           18\n",
      "executive               0.093750         0.906250           32\n",
      "healthcare              0.687500         0.312500           16\n",
      "homemaker               0.857143         0.142857            7\n",
      "lawyer                  0.166667         0.833333           12\n",
      "librarian               0.568627         0.431373           51\n",
      "marketing               0.384615         0.615385           26\n",
      "none                    0.444444         0.555556            9\n",
      "other                   0.342857         0.657143          105\n",
      "programmer              0.090909         0.909091           66\n",
      "retired                 0.071429         0.928571           14\n",
      "salesman                0.250000         0.750000           12\n",
      "scientist               0.096774         0.903226           31\n",
      "student                 0.306122         0.693878          196\n",
      "technician              0.037037         0.962963           27\n",
      "writer                  0.422222         0.577778           45\n"
     ]
    }
   ],
   "source": [
    "#Step 8: For each occupation, present the percentage of women and men\n",
    "    \n",
    "# Calculate the total count per occupation\n",
    "occupation_counts = users['occupation'].value_counts()\n",
    "\n",
    "# Create a new DataFrame to store the percentage of women and men per occupation\n",
    "gender_percentages = gender_counts[['F', 'M']].div(gender_counts[['F', 'M']].sum(axis=1), axis=0)\n",
    "gender_percentages['total_count'] = occupation_counts\n",
    "\n",
    "# Rename columns for clarity\n",
    "gender_percentages.rename(columns={'F': 'percentage_female', 'M': 'percentage_male'}, inplace=True)\n",
    "\n",
    "print(gender_percentages)"
   ]
  },
  {
   "cell_type": "markdown",
   "id": "767704f2",
   "metadata": {},
   "source": [
    "# Question 2\n",
    "Euro Teams\n",
    "Step 1. Import the necessary libraries\n",
    "Step 2. Import the dataset from this address\n",
    "Step 3. Assign it to a variable called euro12\n",
    "Step 4. Select only the Goal column\n",
    "Step 5. How many team participated in the Euro2012?\n",
    "Step 6. What is the number of columns in the dataset?\n",
    "Step 7. View only the columns Team, Yellow Cards and Red Cards and assign them \n",
    "to a dataframe called discipline\n",
    "Step 8. Sort the teams by Red Cards, then to Yellow Cards\n",
    "Step 9. Calculate the mean Yellow Cards given per Team\n",
    "Step 10. Filter teams that scored more than 6 goalsStep 11. Select the teams that start \n",
    "with G\n",
    "Step 12. Select the first 7 columns\n",
    "Step 13. Select all columns except the last 3\n",
    "Step 14. Present only the Shooting Accuracy from England, Italy and Russia"
   ]
  },
  {
   "cell_type": "code",
   "execution_count": 9,
   "id": "7c98ee89",
   "metadata": {},
   "outputs": [],
   "source": [
    "#Step 1: Import the necessary libraries\n",
    "import pandas as pd\n",
    "import numpy as np"
   ]
  },
  {
   "cell_type": "code",
   "execution_count": 10,
   "id": "9988ff2e",
   "metadata": {},
   "outputs": [],
   "source": [
    "#Step 2: Import the dataset from the provided address\n",
    "dataset_url = 'https://raw.githubusercontent.com/guipsamora/pandas_exercises/master/02_Filtering_%26_Sorting/Euro12/Euro_2012_stats_TEAM.csv'\n",
    "euro12 = pd.read_csv(dataset_url)\n",
    "#Step 3: Assign the dataset to a variable called 'euro12'\n",
    "#The dataset is now imported and assigned to the variable 'euro12'."
   ]
  },
  {
   "cell_type": "code",
   "execution_count": 11,
   "id": "2701a3aa",
   "metadata": {},
   "outputs": [],
   "source": [
    "#Step 4: Select only the Goal column\n",
    "goals = euro12['Goals']"
   ]
  },
  {
   "cell_type": "code",
   "execution_count": 12,
   "id": "eec885b8",
   "metadata": {},
   "outputs": [
    {
     "name": "stdout",
     "output_type": "stream",
     "text": [
      "16\n"
     ]
    }
   ],
   "source": [
    "#Step 5: How many teams participated in Euro 2012?\n",
    "num_teams = euro12['Team'].nunique()\n",
    "print(num_teams)"
   ]
  },
  {
   "cell_type": "code",
   "execution_count": 13,
   "id": "63425154",
   "metadata": {},
   "outputs": [
    {
     "name": "stdout",
     "output_type": "stream",
     "text": [
      "35\n"
     ]
    }
   ],
   "source": [
    "#Step 6: What is the number of columns in the dataset?\n",
    "num_columns = len(euro12.columns)\n",
    "print(num_columns)"
   ]
  },
  {
   "cell_type": "code",
   "execution_count": 14,
   "id": "5b73434d",
   "metadata": {},
   "outputs": [],
   "source": [
    "#Step 7: View only the columns Team, Yellow Cards, and Red Cards and assign them to a dataframe called 'discipline'\n",
    "discipline = euro12[['Team', 'Yellow Cards', 'Red Cards']]"
   ]
  },
  {
   "cell_type": "code",
   "execution_count": 15,
   "id": "df6876e6",
   "metadata": {},
   "outputs": [
    {
     "name": "stdout",
     "output_type": "stream",
     "text": [
      "                   Team  Yellow Cards  Red Cards\n",
      "6                Greece             9          1\n",
      "9                Poland             7          1\n",
      "11  Republic of Ireland             6          1\n",
      "7                 Italy            16          0\n",
      "10             Portugal            12          0\n",
      "13                Spain            11          0\n",
      "0               Croatia             9          0\n",
      "1        Czech Republic             7          0\n",
      "14               Sweden             7          0\n",
      "4                France             6          0\n",
      "12               Russia             6          0\n",
      "3               England             5          0\n",
      "8           Netherlands             5          0\n",
      "15              Ukraine             5          0\n",
      "2               Denmark             4          0\n",
      "5               Germany             4          0\n"
     ]
    }
   ],
   "source": [
    "#Step 8: Sort the teams by Red Cards, then by Yellow Cards\n",
    "discipline_sorted = discipline.sort_values(['Red Cards', 'Yellow Cards'], ascending=False)\n",
    "print(discipline_sorted)"
   ]
  },
  {
   "cell_type": "code",
   "execution_count": 16,
   "id": "c5217192",
   "metadata": {},
   "outputs": [
    {
     "name": "stdout",
     "output_type": "stream",
     "text": [
      "7.4375\n"
     ]
    }
   ],
   "source": [
    "#Step 9: Calculate the mean Yellow Cards given per team\n",
    "mean_yellow_cards_per_team = euro12['Yellow Cards'].mean()\n",
    "print(mean_yellow_cards_per_team)"
   ]
  },
  {
   "cell_type": "code",
   "execution_count": 17,
   "id": "bcf42afe",
   "metadata": {},
   "outputs": [
    {
     "name": "stdout",
     "output_type": "stream",
     "text": [
      "       Team  Goals  Shots on target  Shots off target Shooting Accuracy  \\\n",
      "5   Germany     10               32                32             47.8%   \n",
      "13    Spain     12               42                33             55.9%   \n",
      "\n",
      "   % Goals-to-shots  Total shots (inc. Blocked)  Hit Woodwork  Penalty goals  \\\n",
      "5             15.6%                          80             2              1   \n",
      "13            16.0%                         100             0              1   \n",
      "\n",
      "    Penalties not scored  ...  Saves made  Saves-to-shots ratio  Fouls Won  \\\n",
      "5                      0  ...          10                 62.6%         63   \n",
      "13                     0  ...          15                 93.8%        102   \n",
      "\n",
      "   Fouls Conceded  Offsides  Yellow Cards  Red Cards  Subs on  Subs off  \\\n",
      "5              49        12             4          0       15        15   \n",
      "13             83        19            11          0       17        17   \n",
      "\n",
      "    Players Used  \n",
      "5             17  \n",
      "13            18  \n",
      "\n",
      "[2 rows x 35 columns]\n"
     ]
    }
   ],
   "source": [
    "#Step 10: Filter teams that scored more than 6 goals\n",
    "teams_more_than_6_goals = euro12[euro12['Goals'] > 6]\n",
    "print(teams_more_than_6_goals)"
   ]
  },
  {
   "cell_type": "code",
   "execution_count": 18,
   "id": "17575dfc",
   "metadata": {},
   "outputs": [
    {
     "name": "stdout",
     "output_type": "stream",
     "text": [
      "      Team  Goals  Shots on target  Shots off target Shooting Accuracy  \\\n",
      "5  Germany     10               32                32             47.8%   \n",
      "6   Greece      5                8                18             30.7%   \n",
      "\n",
      "  % Goals-to-shots  Total shots (inc. Blocked)  Hit Woodwork  Penalty goals  \\\n",
      "5            15.6%                          80             2              1   \n",
      "6            19.2%                          32             1              1   \n",
      "\n",
      "   Penalties not scored  ...  Saves made  Saves-to-shots ratio  Fouls Won  \\\n",
      "5                     0  ...          10                 62.6%         63   \n",
      "6                     1  ...          13                 65.1%         67   \n",
      "\n",
      "  Fouls Conceded  Offsides  Yellow Cards  Red Cards  Subs on  Subs off  \\\n",
      "5             49        12             4          0       15        15   \n",
      "6             48        12             9          1       12        12   \n",
      "\n",
      "   Players Used  \n",
      "5            17  \n",
      "6            20  \n",
      "\n",
      "[2 rows x 35 columns]\n"
     ]
    }
   ],
   "source": [
    "#Step 11: Select the teams that start with 'G'\n",
    "teams_starting_with_G = euro12[euro12['Team'].str.startswith('G')]\n",
    "print(teams_starting_with_G)"
   ]
  },
  {
   "cell_type": "code",
   "execution_count": 19,
   "id": "92862f71",
   "metadata": {},
   "outputs": [
    {
     "name": "stdout",
     "output_type": "stream",
     "text": [
      "                   Team  Goals  Shots on target  Shots off target  \\\n",
      "0               Croatia      4               13                12   \n",
      "1        Czech Republic      4               13                18   \n",
      "2               Denmark      4               10                10   \n",
      "3               England      5               11                18   \n",
      "4                France      3               22                24   \n",
      "5               Germany     10               32                32   \n",
      "6                Greece      5                8                18   \n",
      "7                 Italy      6               34                45   \n",
      "8           Netherlands      2               12                36   \n",
      "9                Poland      2               15                23   \n",
      "10             Portugal      6               22                42   \n",
      "11  Republic of Ireland      1                7                12   \n",
      "12               Russia      5                9                31   \n",
      "13                Spain     12               42                33   \n",
      "14               Sweden      5               17                19   \n",
      "15              Ukraine      2                7                26   \n",
      "\n",
      "   Shooting Accuracy % Goals-to-shots  Total shots (inc. Blocked)  \n",
      "0              51.9%            16.0%                          32  \n",
      "1              41.9%            12.9%                          39  \n",
      "2              50.0%            20.0%                          27  \n",
      "3              50.0%            17.2%                          40  \n",
      "4              37.9%             6.5%                          65  \n",
      "5              47.8%            15.6%                          80  \n",
      "6              30.7%            19.2%                          32  \n",
      "7              43.0%             7.5%                         110  \n",
      "8              25.0%             4.1%                          60  \n",
      "9              39.4%             5.2%                          48  \n",
      "10             34.3%             9.3%                          82  \n",
      "11             36.8%             5.2%                          28  \n",
      "12             22.5%            12.5%                          59  \n",
      "13             55.9%            16.0%                         100  \n",
      "14             47.2%            13.8%                          39  \n",
      "15             21.2%             6.0%                          38  \n"
     ]
    }
   ],
   "source": [
    "#Step 12: Select the first 7 columns\n",
    "first_7_columns = euro12.iloc[:, :7]\n",
    "print(first_7_columns)"
   ]
  },
  {
   "cell_type": "code",
   "execution_count": 20,
   "id": "7a402232",
   "metadata": {},
   "outputs": [
    {
     "name": "stdout",
     "output_type": "stream",
     "text": [
      "                   Team  Goals  Shots on target  Shots off target  \\\n",
      "0               Croatia      4               13                12   \n",
      "1        Czech Republic      4               13                18   \n",
      "2               Denmark      4               10                10   \n",
      "3               England      5               11                18   \n",
      "4                France      3               22                24   \n",
      "5               Germany     10               32                32   \n",
      "6                Greece      5                8                18   \n",
      "7                 Italy      6               34                45   \n",
      "8           Netherlands      2               12                36   \n",
      "9                Poland      2               15                23   \n",
      "10             Portugal      6               22                42   \n",
      "11  Republic of Ireland      1                7                12   \n",
      "12               Russia      5                9                31   \n",
      "13                Spain     12               42                33   \n",
      "14               Sweden      5               17                19   \n",
      "15              Ukraine      2                7                26   \n",
      "\n",
      "   Shooting Accuracy % Goals-to-shots  Total shots (inc. Blocked)  \\\n",
      "0              51.9%            16.0%                          32   \n",
      "1              41.9%            12.9%                          39   \n",
      "2              50.0%            20.0%                          27   \n",
      "3              50.0%            17.2%                          40   \n",
      "4              37.9%             6.5%                          65   \n",
      "5              47.8%            15.6%                          80   \n",
      "6              30.7%            19.2%                          32   \n",
      "7              43.0%             7.5%                         110   \n",
      "8              25.0%             4.1%                          60   \n",
      "9              39.4%             5.2%                          48   \n",
      "10             34.3%             9.3%                          82   \n",
      "11             36.8%             5.2%                          28   \n",
      "12             22.5%            12.5%                          59   \n",
      "13             55.9%            16.0%                         100   \n",
      "14             47.2%            13.8%                          39   \n",
      "15             21.2%             6.0%                          38   \n",
      "\n",
      "    Hit Woodwork  Penalty goals  Penalties not scored  ...  Clean Sheets  \\\n",
      "0              0              0                     0  ...             0   \n",
      "1              0              0                     0  ...             1   \n",
      "2              1              0                     0  ...             1   \n",
      "3              0              0                     0  ...             2   \n",
      "4              1              0                     0  ...             1   \n",
      "5              2              1                     0  ...             1   \n",
      "6              1              1                     1  ...             1   \n",
      "7              2              0                     0  ...             2   \n",
      "8              2              0                     0  ...             0   \n",
      "9              0              0                     0  ...             0   \n",
      "10             6              0                     0  ...             2   \n",
      "11             0              0                     0  ...             0   \n",
      "12             2              0                     0  ...             0   \n",
      "13             0              1                     0  ...             5   \n",
      "14             3              0                     0  ...             1   \n",
      "15             0              0                     0  ...             0   \n",
      "\n",
      "    Blocks  Goals conceded Saves made  Saves-to-shots ratio  Fouls Won  \\\n",
      "0       10               3         13                 81.3%         41   \n",
      "1       10               6          9                 60.1%         53   \n",
      "2       10               5         10                 66.7%         25   \n",
      "3       29               3         22                 88.1%         43   \n",
      "4        7               5          6                 54.6%         36   \n",
      "5       11               6         10                 62.6%         63   \n",
      "6       23               7         13                 65.1%         67   \n",
      "7       18               7         20                 74.1%        101   \n",
      "8        9               5         12                 70.6%         35   \n",
      "9        8               3          6                 66.7%         48   \n",
      "10      11               4         10                 71.5%         73   \n",
      "11      23               9         17                 65.4%         43   \n",
      "12       8               3         10                 77.0%         34   \n",
      "13       8               1         15                 93.8%        102   \n",
      "14      12               5          8                 61.6%         35   \n",
      "15       4               4         13                 76.5%         48   \n",
      "\n",
      "    Fouls Conceded  Offsides  Yellow Cards  Red Cards  \n",
      "0               62         2             9          0  \n",
      "1               73         8             7          0  \n",
      "2               38         8             4          0  \n",
      "3               45         6             5          0  \n",
      "4               51         5             6          0  \n",
      "5               49        12             4          0  \n",
      "6               48        12             9          1  \n",
      "7               89        16            16          0  \n",
      "8               30         3             5          0  \n",
      "9               56         3             7          1  \n",
      "10              90        10            12          0  \n",
      "11              51        11             6          1  \n",
      "12              43         4             6          0  \n",
      "13              83        19            11          0  \n",
      "14              51         7             7          0  \n",
      "15              31         4             5          0  \n",
      "\n",
      "[16 rows x 32 columns]\n"
     ]
    }
   ],
   "source": [
    "#Step 13: Select all columns except the last 3\n",
    "all_except_last_3_columns = euro12.iloc[:, :-3]\n",
    "print(all_except_last_3_columns)"
   ]
  },
  {
   "cell_type": "code",
   "execution_count": 21,
   "id": "5f96104e",
   "metadata": {},
   "outputs": [
    {
     "name": "stdout",
     "output_type": "stream",
     "text": [
      "       Team Shooting Accuracy\n",
      "3   England             50.0%\n",
      "7     Italy             43.0%\n",
      "12   Russia             22.5%\n"
     ]
    }
   ],
   "source": [
    "#Step 14: Present only the Shooting Accuracy from England, Italy, and Russia\n",
    "shooting_accuracy_selected_teams = euro12[euro12['Team'].isin(['England', 'Italy', 'Russia'])][['Team', 'Shooting Accuracy']]\n",
    "print(shooting_accuracy_selected_teams)"
   ]
  },
  {
   "cell_type": "markdown",
   "id": "268233f1",
   "metadata": {},
   "source": [
    "# Question 3\n",
    "Housing\n",
    "Step 1. Import the necessary libraries\n",
    "Step 2. Create 3 differents Series, each of length 100, as follows:\n",
    "• The first a random number from 1 to 4\n",
    "• The second a random number from 1 to 3\n",
    "• The third a random number from 10,000 to 30,000\n",
    "Step 3. Create a DataFrame by joinning the Series by column\n",
    "Step 4. Change the name of the columns to bedrs, bathrs, price_sqr_meter\n",
    "Step 5. Create a one column DataFrame with the values of the 3 Series and assign it \n",
    "to 'bigcolumn'\n",
    "Step 6. Ops it seems it is going only until index 99. Is it true?\n",
    "Step 7. Reindex the DataFrame so it goes from 0 to 299"
   ]
  },
  {
   "cell_type": "code",
   "execution_count": 23,
   "id": "4f28df9d",
   "metadata": {},
   "outputs": [],
   "source": [
    "#Step 1: Import the necessary libraries\n",
    "import pandas as pd\n",
    "import numpy as np"
   ]
  },
  {
   "cell_type": "code",
   "execution_count": 24,
   "id": "04d8e6ca",
   "metadata": {},
   "outputs": [],
   "source": [
    "#Step 2: Create 3 different Series, each of length 100\n",
    "# Set a random seed for reproducibility\n",
    "np.random.seed(42)\n",
    "# Create the three Series\n",
    "series1 = pd.Series(np.random.randint(1, 5, size=100))\n",
    "series2 = pd.Series(np.random.randint(1, 4, size=100))\n",
    "series3 = pd.Series(np.random.randint(10000, 30001, size=100))"
   ]
  },
  {
   "cell_type": "code",
   "execution_count": 25,
   "id": "22964010",
   "metadata": {},
   "outputs": [],
   "source": [
    "#Step 3: Create a DataFrame by joining the Series by column\n",
    "# Create the DataFrame by joining the Series\n",
    "housing_df = pd.concat([series1, series2, series3], axis=1)"
   ]
  },
  {
   "cell_type": "code",
   "execution_count": 26,
   "id": "e050bf87",
   "metadata": {},
   "outputs": [],
   "source": [
    "#Step 4: Change the name of the columns to 'bedrs', 'bathrs', 'price_sqr_meter'\n",
    "housing_df.columns = ['bedrs', 'bathrs', 'price_sqr_meter']"
   ]
  },
  {
   "cell_type": "code",
   "execution_count": 27,
   "id": "5c07858c",
   "metadata": {},
   "outputs": [],
   "source": [
    "#Step 5: Create a one-column DataFrame with the values of the 3 Series and assign it to 'bigcolumn'\n",
    "bigcolumn = pd.concat([series1, series2, series3], ignore_index=True)"
   ]
  },
  {
   "cell_type": "code",
   "execution_count": 29,
   "id": "1a8cc67d",
   "metadata": {},
   "outputs": [
    {
     "name": "stdout",
     "output_type": "stream",
     "text": [
      "(300,)\n"
     ]
    }
   ],
   "source": [
    "#Step 6: Check if it seems to go only until index 99\n",
    "print(bigcolumn.shape)\n",
    "# The shape of the bigcolumn should be (300,) if it's going up to index 99. \n",
    "# But, it should be (300, 1) to go up to index 299."
   ]
  },
  {
   "cell_type": "code",
   "execution_count": 30,
   "id": "c9b3acbd",
   "metadata": {},
   "outputs": [],
   "source": [
    "#Step 7: Reindex the DataFrame so it goes from 0 to 299\n",
    "housing_df.reset_index(drop=True, inplace=True)\n",
    "bigcolumn.reset_index(drop=True, inplace=True)"
   ]
  },
  {
   "cell_type": "markdown",
   "id": "98666f6b",
   "metadata": {},
   "source": [
    "# Question 4"
   ]
  },
  {
   "cell_type": "code",
   "execution_count": 28,
   "id": "f570a7b7",
   "metadata": {},
   "outputs": [],
   "source": [
    "import pandas as pd\n",
    "\n",
    "# Step 2: Import the dataset from the attached file 'wind.txt'\n",
    "data = pd.read_csv('wind.txt', delim_whitespace=True, na_values='NaN')\n",
    "\n",
    "# Step 3: Combine the 'Yr', 'Mo', and 'Dy' columns to a single column named 'date'\n",
    "data['date'] = data.apply(lambda row: pd.to_datetime(f\"{int(row['Yr']):02d}-{int(row['Mo']):02d}-{int(row['Dy']):02d}\", format='%y-%m-%d'), axis=1)\n",
    "\n",
    "# Step 4: Remove the individual columns for year, month, and day\n",
    "data.drop(['Yr', 'Mo', 'Dy'], axis=1, inplace=True)\n",
    "\n",
    "# Step 5: Set the 'date' column as the index\n",
    "data.set_index('date', inplace=True)\n",
    "\n",
    "# Step 6: Compute how many values are missing for each location over the entire record\n",
    "missing_values_per_location = data.isnull().sum()\n",
    "\n",
    "# Step 7: Compute how many non-missing values there are in total\n",
    "total_non_missing_values = data.count().sum()\n",
    "\n",
    "# Step 8: Calculate the mean windspeeds of the windspeeds over all the locations and all the times\n",
    "mean_windspeed = data.mean().mean()\n",
    "\n",
    "# Step 9: Create a DataFrame called loc_stats and calculate the min, max, mean, and standard deviations of the windspeeds at each location over all the days\n",
    "loc_stats = data.agg(['min', 'max', 'mean', 'std'])\n",
    "\n",
    "# Step 10: Create a DataFrame called day_stats and calculate the min, max, mean, and standard deviations of the windspeeds across all the locations at each day\n",
    "day_stats = data.agg(['min', 'max', 'mean', 'std'], axis=1)\n",
    "\n",
    "# Step 11: Find the average windspeed in January for each location\n",
    "january_avg_windspeed = data[data.index.month == 1].mean()\n",
    "\n",
    "# Step 12: Downsample the record to a yearly frequency for each location\n",
    "yearly_data = data.resample('Y').mean()\n",
    "\n",
    "# Step 13: Downsample the record to a monthly frequency for each location\n",
    "monthly_data = data.resample('M').mean()\n",
    "\n",
    "# Step 14: Downsample the record to a weekly frequency for each location\n",
    "weekly_data = data.resample('W').mean()\n",
    "\n",
    "# Step 15: Calculate the min, max, mean, and standard deviations of the windspeeds across all locations for each week (assume that the first week starts on January 2, 1961) for the first 52 weeks\n",
    "weekly_stats = weekly_data.iloc[1:53].agg(['min', 'max', 'mean', 'std'])\n"
   ]
  },
  {
   "cell_type": "code",
   "execution_count": 17,
   "id": "4da130d0",
   "metadata": {},
   "outputs": [
    {
     "name": "stdout",
     "output_type": "stream",
     "text": [
      "Missing values per location:\n",
      " RPT    6\n",
      "VAL    3\n",
      "ROS    2\n",
      "KIL    5\n",
      "SHA    2\n",
      "BIR    0\n",
      "DUB    3\n",
      "CLA    2\n",
      "MUL    3\n",
      "CLO    1\n",
      "BEL    0\n",
      "MAL    4\n",
      "dtype: int64\n"
     ]
    }
   ],
   "source": [
    "print(\"Missing values per location:\\n\", missing_values_per_location)"
   ]
  },
  {
   "cell_type": "code",
   "execution_count": 18,
   "id": "9a563287",
   "metadata": {},
   "outputs": [
    {
     "name": "stdout",
     "output_type": "stream",
     "text": [
      "\n",
      "Total non-missing values: 78857\n"
     ]
    }
   ],
   "source": [
    "print(\"\\nTotal non-missing values:\", total_non_missing_values)"
   ]
  },
  {
   "cell_type": "code",
   "execution_count": 19,
   "id": "8b6bf47f",
   "metadata": {},
   "outputs": [
    {
     "name": "stdout",
     "output_type": "stream",
     "text": [
      "\n",
      "Mean windspeed over all locations and times: 10.227982360836938\n"
     ]
    }
   ],
   "source": [
    "print(\"\\nMean windspeed over all locations and times:\", mean_windspeed)"
   ]
  },
  {
   "cell_type": "code",
   "execution_count": 20,
   "id": "187f6d0a",
   "metadata": {},
   "outputs": [
    {
     "name": "stdout",
     "output_type": "stream",
     "text": [
      "\n",
      "Location statistics:\n",
      "             RPT        VAL        ROS        KIL        SHA        BIR  \\\n",
      "min    0.670000   0.210000   1.500000   0.000000   0.130000   0.000000   \n",
      "max   35.800000  33.370000  33.840000  28.460000  37.540000  26.160000   \n",
      "mean  12.362987  10.644314  11.660526   6.306468  10.455834   7.092254   \n",
      "std    5.618413   5.267356   5.008450   3.605811   4.936125   3.968683   \n",
      "\n",
      "            DUB        CLA        MUL        CLO        BEL        MAL  \n",
      "min    0.000000   0.000000   0.000000   0.040000   0.130000   0.670000  \n",
      "max   30.370000  31.080000  25.880000  28.210000  42.380000  42.540000  \n",
      "mean   9.797343   8.495053   8.493590   8.707332  13.121007  15.599079  \n",
      "std    4.977555   4.499449   4.166872   4.503954   5.835037   6.699794  \n"
     ]
    }
   ],
   "source": [
    "print(\"\\nLocation statistics:\\n\", loc_stats)"
   ]
  },
  {
   "cell_type": "code",
   "execution_count": 21,
   "id": "67dd6318",
   "metadata": {},
   "outputs": [
    {
     "name": "stdout",
     "output_type": "stream",
     "text": [
      "\n",
      "Day statistics:\n",
      "              min    max       mean       std\n",
      "date                                        \n",
      "2061-01-01  9.29  18.50  13.018182  2.808875\n",
      "2061-01-02  6.50  17.54  11.336364  3.188994\n",
      "2061-01-03  6.17  18.50  11.641818  3.681912\n",
      "2061-01-04  1.79  11.75   6.619167  3.198126\n",
      "2061-01-05  6.17  13.33  10.630000  2.445356\n",
      "...          ...    ...        ...       ...\n",
      "1978-12-27  8.08  40.08  16.708333  7.868076\n",
      "1978-12-28  5.00  41.46  15.150000  9.687857\n",
      "1978-12-29  8.71  29.58  14.890000  5.756836\n",
      "1978-12-30  9.13  28.79  15.367500  5.540437\n",
      "1978-12-31  9.59  27.29  15.402500  5.702483\n",
      "\n",
      "[6574 rows x 4 columns]\n"
     ]
    }
   ],
   "source": [
    "print(\"\\nDay statistics:\\n\", day_stats)"
   ]
  },
  {
   "cell_type": "code",
   "execution_count": 22,
   "id": "09c3ea2d",
   "metadata": {},
   "outputs": [
    {
     "name": "stdout",
     "output_type": "stream",
     "text": [
      "\n",
      "Average windspeed in January for each location:\n",
      " RPT    14.847325\n",
      "VAL    12.914560\n",
      "ROS    13.299624\n",
      "KIL     7.199498\n",
      "SHA    11.667734\n",
      "BIR     8.054839\n",
      "DUB    11.819355\n",
      "CLA     9.512047\n",
      "MUL     9.543208\n",
      "CLO    10.053566\n",
      "BEL    14.550520\n",
      "MAL    18.028763\n",
      "dtype: float64\n"
     ]
    }
   ],
   "source": [
    "print(\"\\nAverage windspeed in January for each location:\\n\", january_avg_windspeed)"
   ]
  },
  {
   "cell_type": "code",
   "execution_count": 23,
   "id": "8e133fd4",
   "metadata": {},
   "outputs": [
    {
     "name": "stdout",
     "output_type": "stream",
     "text": [
      "\n",
      "Yearly data:\n",
      "                   RPT        VAL        ROS       KIL        SHA       BIR  \\\n",
      "date                                                                         \n",
      "1969-12-31  11.166356   9.723699  10.902000  5.767973   9.873918  6.189973   \n",
      "1970-12-31  12.600329  10.726932  11.730247  6.217178  10.567370  7.609452   \n",
      "1971-12-31  11.273123   9.095178  11.088329  5.241507   9.440329  6.097151   \n",
      "1972-12-31  12.463962  10.561311  12.058333  5.929699   9.430410  6.358825   \n",
      "1973-12-31  11.828466  10.680493  10.680493  5.547863   9.640877  6.548740   \n",
      "...               ...        ...        ...       ...        ...       ...   \n",
      "2064-12-31  12.363661  10.920164  12.104372  6.787787  11.454481  7.570874   \n",
      "2065-12-31  12.451370  11.075534  11.848767  6.858466  11.024795  7.478110   \n",
      "2066-12-31  13.461973  11.557205  12.020630  7.345726  11.805041  7.793671   \n",
      "2067-12-31  12.737151  10.990986  11.739397  7.143425  11.630740  7.368164   \n",
      "2068-12-31  11.835628  10.468197  11.409754  6.477678  10.760765  6.067322   \n",
      "\n",
      "                  DUB       CLA       MUL        CLO        BEL        MAL  \n",
      "date                                                                        \n",
      "1969-12-31   8.564493  7.711397  7.924521   7.754384  12.621233  15.762904  \n",
      "1970-12-31   9.609890  8.334630  9.297616   8.289808  13.183644  16.456027  \n",
      "1971-12-31   8.385890  6.757315  7.915370   7.229753  12.208932  15.025233  \n",
      "1972-12-31   9.704508  7.680792  8.357295   7.515273  12.727377  15.028716  \n",
      "1973-12-31   8.482110  7.614274  8.245534   7.812411  12.169699  15.441096  \n",
      "...               ...       ...       ...        ...        ...        ...  \n",
      "2064-12-31  10.259153  9.467350  7.789016  10.207951  13.740546  14.910301  \n",
      "2065-12-31  10.618712  8.879918  7.907425   9.918082  12.964247  15.591644  \n",
      "2066-12-31  10.579808  8.835096  8.514438   9.768959  14.265836  16.307260  \n",
      "2067-12-31  10.652027  9.325616  8.645014   9.547425  14.774548  17.135945  \n",
      "2068-12-31   8.859180  8.255519  7.224945   7.832978  12.808634  15.017486  \n",
      "\n",
      "[100 rows x 12 columns]\n"
     ]
    }
   ],
   "source": [
    "print(\"\\nYearly data:\\n\", yearly_data)"
   ]
  },
  {
   "cell_type": "code",
   "execution_count": 24,
   "id": "bbc2bb32",
   "metadata": {},
   "outputs": [
    {
     "name": "stdout",
     "output_type": "stream",
     "text": [
      "\n",
      "Monthly data:\n",
      "                   RPT        VAL        ROS       KIL        SHA       BIR  \\\n",
      "date                                                                         \n",
      "1969-01-31  12.824839  12.113871  11.403871  6.708710  10.557097  5.926452   \n",
      "1969-02-28  13.504643  10.426786  14.240714  7.326786  11.314643  5.482857   \n",
      "1969-03-31  10.398710   8.533226  12.277419  6.125161   9.618065  4.942581   \n",
      "1969-04-30  12.591333   9.769333  10.828000  6.937333  11.304667  5.578000   \n",
      "1969-05-31   9.419032   7.941935   9.298387  5.137097   8.618710  5.391935   \n",
      "...               ...        ...        ...       ...        ...       ...   \n",
      "2068-08-31   9.231935   6.870323  13.075161  6.074839   8.954516  4.835484   \n",
      "2068-09-30  12.137000  11.160667  12.008000  6.886000  11.718667  6.497333   \n",
      "2068-10-31  12.521290  11.755484  11.235161  6.433871  11.381935  6.554516   \n",
      "2068-11-30  14.604000  14.257333  14.422333  6.828000  13.046333  8.008667   \n",
      "2068-12-31  13.090645  11.132903  13.237742  6.070000   9.675161  5.445484   \n",
      "\n",
      "                  DUB        CLA       MUL        CLO        BEL        MAL  \n",
      "date                                                                         \n",
      "1969-01-31   9.882903   8.375161  8.378065   9.515484  13.410000  16.957742  \n",
      "1969-02-28  10.983929   8.747143  8.994286   9.081071  14.334643  19.786786  \n",
      "1969-03-31   9.193226   8.503226  8.376129   7.800968  10.394194  16.420000  \n",
      "1969-04-30   9.383333   8.141667  9.201333   8.370333  11.905667  14.124000  \n",
      "1969-05-31   6.309032   5.752581  5.907419   6.317419   9.332258  11.794839  \n",
      "...               ...        ...       ...        ...        ...        ...  \n",
      "2068-08-31   6.752903   6.429677  5.882258   4.733548  10.793226   9.819032  \n",
      "2068-09-30   9.476000   8.504000  7.781333   7.584000  12.900333  13.583667  \n",
      "2068-10-31   8.357742   9.450645  8.102258   8.370968  14.871935  16.388065  \n",
      "2068-11-30  10.813000  11.214333  9.175333  10.901667  15.818667  20.313000  \n",
      "2068-12-31   9.338710   7.143548  7.893226   9.208065  12.050323  18.806452  \n",
      "\n",
      "[1200 rows x 12 columns]\n"
     ]
    }
   ],
   "source": [
    "print(\"\\nMonthly data:\\n\", monthly_data)"
   ]
  },
  {
   "cell_type": "code",
   "execution_count": 25,
   "id": "35b11e9e",
   "metadata": {},
   "outputs": [
    {
     "name": "stdout",
     "output_type": "stream",
     "text": [
      "\n",
      "Weekly data:\n",
      "                   RPT        VAL        ROS       KIL        SHA       BIR  \\\n",
      "date                                                                         \n",
      "1969-01-05   5.884000   3.958000   6.758000  2.752000   5.416000  2.392000   \n",
      "1969-01-12  14.708571  12.521429  15.135714  6.851429  11.940000  6.744286   \n",
      "1969-01-19  15.030000  16.452857  10.778571  7.774286  12.590000  6.821429   \n",
      "1969-01-26  14.438571  14.267143  13.017143  7.721429  10.607143  7.114286   \n",
      "1969-02-02  13.510000  11.917143  10.702857  8.111429  11.581429  5.612857   \n",
      "...               ...        ...        ...       ...        ...       ...   \n",
      "2068-12-09   9.251429  10.535714  12.772857  5.142857   8.684286  4.720000   \n",
      "2068-12-16  12.047143  10.464286  10.857143  4.685714   8.707143  4.780000   \n",
      "2068-12-23  18.220000  15.165714  15.737143  9.208571  13.352857  8.395714   \n",
      "2068-12-30  13.251429   9.327143  14.167143  5.338571   8.341429  3.915714   \n",
      "2069-01-06   9.130000   2.130000   7.380000  2.500000   4.040000  0.500000   \n",
      "\n",
      "                  DUB        CLA        MUL        CLO        BEL        MAL  \n",
      "date                                                                          \n",
      "1969-01-05   8.626000   4.388000   5.640000   7.160000  11.510000  16.108000  \n",
      "1969-01-12  10.591429   9.174286   9.107143  10.124286  12.130000  20.385714  \n",
      "1969-01-19   9.998571   8.815714   9.078571   8.385714  13.624286  14.248571  \n",
      "1969-01-26   8.537143  10.030000   7.720000  10.720000  15.475714  15.827143  \n",
      "1969-02-02  12.305714   8.394286  10.437143  10.771429  15.757143  20.284286  \n",
      "...               ...        ...        ...        ...        ...        ...  \n",
      "2068-12-09   7.632857   6.535714   6.081429   8.310000  10.855714  15.102857  \n",
      "2068-12-16   6.470000   6.095714   6.302857   7.690000  10.970000  14.588571  \n",
      "2068-12-23  13.701429  10.178571  11.177143  12.630000  15.750000  22.332857  \n",
      "2068-12-30   9.368571   5.641429   7.947143   8.124286  11.712857  23.225714  \n",
      "2069-01-06   6.830000   2.540000   3.540000   5.500000   5.710000  12.420000  \n",
      "\n",
      "[5219 rows x 12 columns]\n"
     ]
    }
   ],
   "source": [
    "print(\"\\nWeekly data:\\n\", weekly_data)"
   ]
  },
  {
   "cell_type": "code",
   "execution_count": 26,
   "id": "6c641be5",
   "metadata": {},
   "outputs": [
    {
     "name": "stdout",
     "output_type": "stream",
     "text": [
      "\n",
      "Weekly statistics for the first 52 weeks:\n",
      "             RPT        VAL        ROS       KIL        SHA        BIR  \\\n",
      "min    4.648571   3.571429   7.101429  3.092857   5.274286   2.075714   \n",
      "max   15.875714  16.452857  20.135714  9.310000  14.368571  12.264286   \n",
      "mean  11.220275   9.756731  10.954038  5.783681   9.880797   6.216484   \n",
      "std    2.742337   2.894741   2.444827  1.525895   2.301956   1.906628   \n",
      "\n",
      "            DUB        CLA        MUL        CLO        BEL        MAL  \n",
      "min    3.608571   2.387143   2.624286   2.967143   6.477143   8.025714  \n",
      "max   14.870000  13.041429  12.238571  12.328571  19.171429  25.631429  \n",
      "mean   8.556429   7.728187   7.939011   7.726099  12.601154  15.760082  \n",
      "std    2.391231   2.266670   2.108364   2.085366   3.092048   4.288757  \n"
     ]
    }
   ],
   "source": [
    "print(\"\\nWeekly statistics for the first 52 weeks:\\n\", weekly_stats)"
   ]
  },
  {
   "cell_type": "markdown",
   "id": "4261b36e",
   "metadata": {},
   "source": [
    "# Question 5\n",
    "Step 1. Import the necessary libraries\n",
    "Step 2. Import the dataset from this address.\n",
    "Step 3. Assign it to a variable called chipo.\n",
    "Step 4. See the first 10 entries\n",
    "Step 5. What is the number of observations in the dataset?\n",
    "Step 6. What is the number of columns in the dataset?\n",
    "Step 7. Print the name of all the columns.\n",
    "Step 8. How is the dataset indexed?\n",
    "Step 9. Which was the most-ordered item?\n",
    "Step 10. For the most-ordered item, how many items were ordered?\n",
    "Step 11. What was the most ordered item in the choice_description column?\n",
    "Step 12. How many items were orderd in total?\n",
    "Step 13.\n",
    "• Turn the item price into a float\n",
    "• Check the item price type\n",
    "• Create a lambda function and change the type of item price\n",
    "• Check the item price type\n",
    "Step 14. How much was the revenue for the period in the dataset?\n",
    "Step 15. How many orders were made in the period?\n",
    "Step 16. What is the average revenue amount per order?\n",
    "Step 17. How many different items are sold?"
   ]
  },
  {
   "cell_type": "code",
   "execution_count": 56,
   "id": "0a209385",
   "metadata": {},
   "outputs": [],
   "source": [
    "#Step 1: Import the necessary libraries\n",
    "import pandas as pd"
   ]
  },
  {
   "cell_type": "code",
   "execution_count": 57,
   "id": "49485f47",
   "metadata": {},
   "outputs": [],
   "source": [
    "#Step 2: Import the dataset from the provided address\n",
    "# Replace 'dataset_url' with the actual URL of the dataset\n",
    "dataset_url = 'https://raw.githubusercontent.com/justmarkham/DAT8/master/data/chipotle.tsv'\n",
    "chipo = pd.read_csv(dataset_url, sep='\\t')\n",
    "#Step 3: Assign the dataset to a variable called 'chipo'\n",
    "#The dataset is now imported and assigned to the variable 'chipo'."
   ]
  },
  {
   "cell_type": "code",
   "execution_count": 58,
   "id": "e425f120",
   "metadata": {},
   "outputs": [
    {
     "name": "stdout",
     "output_type": "stream",
     "text": [
      "   order_id  quantity                              item_name  \\\n",
      "0         1         1           Chips and Fresh Tomato Salsa   \n",
      "1         1         1                                   Izze   \n",
      "2         1         1                       Nantucket Nectar   \n",
      "3         1         1  Chips and Tomatillo-Green Chili Salsa   \n",
      "4         2         2                           Chicken Bowl   \n",
      "5         3         1                           Chicken Bowl   \n",
      "6         3         1                          Side of Chips   \n",
      "7         4         1                          Steak Burrito   \n",
      "8         4         1                       Steak Soft Tacos   \n",
      "9         5         1                          Steak Burrito   \n",
      "\n",
      "                                  choice_description item_price  \n",
      "0                                                NaN     $2.39   \n",
      "1                                       [Clementine]     $3.39   \n",
      "2                                            [Apple]     $3.39   \n",
      "3                                                NaN     $2.39   \n",
      "4  [Tomatillo-Red Chili Salsa (Hot), [Black Beans...    $16.98   \n",
      "5  [Fresh Tomato Salsa (Mild), [Rice, Cheese, Sou...    $10.98   \n",
      "6                                                NaN     $1.69   \n",
      "7  [Tomatillo Red Chili Salsa, [Fajita Vegetables...    $11.75   \n",
      "8  [Tomatillo Green Chili Salsa, [Pinto Beans, Ch...     $9.25   \n",
      "9  [Fresh Tomato Salsa, [Rice, Black Beans, Pinto...     $9.25   \n"
     ]
    }
   ],
   "source": [
    "#Step 4: See the first 10 entries\n",
    "print(chipo.head(10))"
   ]
  },
  {
   "cell_type": "code",
   "execution_count": 59,
   "id": "110a9dcf",
   "metadata": {},
   "outputs": [
    {
     "name": "stdout",
     "output_type": "stream",
     "text": [
      "4622\n"
     ]
    }
   ],
   "source": [
    "#Step 5: What is the number of observations in the dataset?\n",
    "num_observations = chipo.shape[0]\n",
    "print(num_observations)"
   ]
  },
  {
   "cell_type": "code",
   "execution_count": 60,
   "id": "79d9572f",
   "metadata": {},
   "outputs": [
    {
     "name": "stdout",
     "output_type": "stream",
     "text": [
      "5\n"
     ]
    }
   ],
   "source": [
    "#Step 6: What is the number of columns in the dataset?\n",
    "num_columns = chipo.shape[1]\n",
    "print(num_columns)"
   ]
  },
  {
   "cell_type": "code",
   "execution_count": 61,
   "id": "83fe57aa",
   "metadata": {},
   "outputs": [
    {
     "name": "stdout",
     "output_type": "stream",
     "text": [
      "Index(['order_id', 'quantity', 'item_name', 'choice_description',\n",
      "       'item_price'],\n",
      "      dtype='object')\n"
     ]
    }
   ],
   "source": [
    "#Step 7: Print the name of all the columns\n",
    "print(chipo.columns)"
   ]
  },
  {
   "cell_type": "code",
   "execution_count": 62,
   "id": "933accb6",
   "metadata": {},
   "outputs": [
    {
     "name": "stdout",
     "output_type": "stream",
     "text": [
      "RangeIndex(start=0, stop=4622, step=1)\n"
     ]
    }
   ],
   "source": [
    "#Step 8: How is the dataset indexed?\n",
    "print(chipo.index)"
   ]
  },
  {
   "cell_type": "code",
   "execution_count": 63,
   "id": "3ffb5324",
   "metadata": {},
   "outputs": [
    {
     "name": "stdout",
     "output_type": "stream",
     "text": [
      "Chicken Bowl\n"
     ]
    }
   ],
   "source": [
    "#Step 9: Which was the most-ordered item?\n",
    "most_ordered_item = chipo['item_name'].mode().values[0]\n",
    "print(most_ordered_item)"
   ]
  },
  {
   "cell_type": "code",
   "execution_count": 64,
   "id": "9df3e844",
   "metadata": {},
   "outputs": [
    {
     "name": "stdout",
     "output_type": "stream",
     "text": [
      "761\n"
     ]
    }
   ],
   "source": [
    "#Step 10: For the most-ordered item, how many items were ordered?\n",
    "items_ordered_most = chipo[chipo['item_name'] == most_ordered_item]['quantity'].sum()\n",
    "print(items_ordered_most)"
   ]
  },
  {
   "cell_type": "code",
   "execution_count": 65,
   "id": "68e4148c",
   "metadata": {},
   "outputs": [
    {
     "name": "stdout",
     "output_type": "stream",
     "text": [
      "[Diet Coke]\n"
     ]
    }
   ],
   "source": [
    "#Step 11: What was the most ordered item in the choice_description column?\n",
    "most_ordered_choice = chipo['choice_description'].mode().values[0]\n",
    "print(most_ordered_choice)"
   ]
  },
  {
   "cell_type": "code",
   "execution_count": 66,
   "id": "65d7e726",
   "metadata": {},
   "outputs": [
    {
     "name": "stdout",
     "output_type": "stream",
     "text": [
      "4972\n"
     ]
    }
   ],
   "source": [
    "#Step 12: How many items were ordered in total?\n",
    "total_items_ordered = chipo['quantity'].sum()\n",
    "print(total_items_ordered)"
   ]
  },
  {
   "cell_type": "code",
   "execution_count": 67,
   "id": "352fcf20",
   "metadata": {},
   "outputs": [
    {
     "name": "stdout",
     "output_type": "stream",
     "text": [
      "float64\n"
     ]
    }
   ],
   "source": [
    "#Step 13:\n",
    "\n",
    "#Turn the item price into a float\n",
    "#Check the item price type\n",
    "#Create a lambda function and change the type of the item price\n",
    "#Check the item price type\n",
    "\n",
    "# Step 13.1: Turn the item price into a float\n",
    "chipo['item_price'] = chipo['item_price'].apply(lambda x: float(x[1:-1]))\n",
    "\n",
    "# Step 13.2: Check the item price type\n",
    "print(chipo['item_price'].dtype)"
   ]
  },
  {
   "cell_type": "code",
   "execution_count": 68,
   "id": "1b6f37e6",
   "metadata": {},
   "outputs": [
    {
     "name": "stdout",
     "output_type": "stream",
     "text": [
      "39237.02\n"
     ]
    }
   ],
   "source": [
    "#Step 14: How much was the revenue for the period in the dataset?\n",
    "revenue = (chipo['quantity'] * chipo['item_price']).sum()\n",
    "print(revenue)"
   ]
  },
  {
   "cell_type": "code",
   "execution_count": 69,
   "id": "80989918",
   "metadata": {},
   "outputs": [
    {
     "name": "stdout",
     "output_type": "stream",
     "text": [
      "1834\n"
     ]
    }
   ],
   "source": [
    "#Step 15: How many orders were made in the period?\n",
    "num_orders = chipo['order_id'].nunique()\n",
    "print(num_orders)"
   ]
  },
  {
   "cell_type": "code",
   "execution_count": 70,
   "id": "ea2ad309",
   "metadata": {},
   "outputs": [
    {
     "name": "stdout",
     "output_type": "stream",
     "text": [
      "21.39423118865867\n"
     ]
    }
   ],
   "source": [
    "#Step 16: What is the average revenue amount per order?\n",
    "average_revenue_per_order = revenue / num_orders\n",
    "print(average_revenue_per_order)"
   ]
  },
  {
   "cell_type": "code",
   "execution_count": 71,
   "id": "d48ea1eb",
   "metadata": {},
   "outputs": [
    {
     "name": "stdout",
     "output_type": "stream",
     "text": [
      "50\n"
     ]
    }
   ],
   "source": [
    "#Step 17: How many different items are sold?\n",
    "num_different_items_sold = chipo['item_name'].nunique()\n",
    "print(num_different_items_sold)"
   ]
  },
  {
   "cell_type": "markdown",
   "id": "7303001e",
   "metadata": {},
   "source": [
    "# Question 6\n",
    "Create a line plot showing the number of marriages and divorces per capita in the \n",
    "U.S. between 1867 and 2014. Label both lines and show the legend.\n",
    "Don't forget to label your axes!"
   ]
  },
  {
   "cell_type": "code",
   "execution_count": 72,
   "id": "5aca34b1",
   "metadata": {},
   "outputs": [],
   "source": [
    "#Step 1: Import the necessary libraries\n",
    "\n",
    "import pandas as pd\n",
    "import matplotlib.pyplot as plt"
   ]
  },
  {
   "cell_type": "code",
   "execution_count": 79,
   "id": "2ac20f04",
   "metadata": {},
   "outputs": [],
   "source": [
    "#Step 2: Import the dataset \n",
    "dataset_path = 'us-marriages-divorces-1867-2014.csv'\n",
    "data = pd.read_csv(dataset_path)"
   ]
  },
  {
   "cell_type": "code",
   "execution_count": 84,
   "id": "6390d1d7",
   "metadata": {},
   "outputs": [
    {
     "data": {
      "image/png": "[encoded data removed]",
      "text/plain": [
       "<Figure size 1000x600 with 1 Axes>"
      ]
     },
     "metadata": {},
     "output_type": "display_data"
    }
   ],
   "source": [
    "# Extract the data for the plot\n",
    "years = data['Year']\n",
    "marriages_per_capita = data['Marriages_per_1000']\n",
    "divorces_per_capita = data['Divorces_per_1000']\n",
    "\n",
    "# Create the line plot\n",
    "plt.figure(figsize=(10, 6))\n",
    "plt.plot(years, marriages_per_capita, label='Marriages per capita')\n",
    "plt.plot(years, divorces_per_capita, label='Divorces per capita')\n",
    "\n",
    "# Label axes and add title\n",
    "plt.xlabel('Year')\n",
    "plt.ylabel('Per Capita')\n",
    "plt.title('Number of Marriages and Divorces per Capita in the U.S. (1867-2014)')\n",
    "\n",
    "# Add legend\n",
    "plt.legend()\n",
    "\n",
    "# Show the plot\n",
    "plt.show()"
   ]
  },
  {
   "cell_type": "markdown",
   "id": "b7c56a08",
   "metadata": {},
   "source": [
    "# Question 7\n",
    "Create a vertical bar chart comparing the number of marriages and divorces per \n",
    "capita in the U.S. between 1900, 1950, and 2000.\n",
    "Don't forget to label your axes"
   ]
  },
  {
   "cell_type": "code",
   "execution_count": 82,
   "id": "c181c567",
   "metadata": {},
   "outputs": [],
   "source": [
    "years_of_interest = [1900, 1950, 2000]\n",
    "data_filtered = data[data['Year'].isin(years_of_interest)]"
   ]
  },
  {
   "cell_type": "code",
   "execution_count": 88,
   "id": "0c70a320",
   "metadata": {},
   "outputs": [
    {
     "data": {
      "image/png": "[encoded data removed]",
      "text/plain": [
       "<Figure size 640x480 with 1 Axes>"
      ]
     },
     "metadata": {},
     "output_type": "display_data"
    }
   ],
   "source": [
    "# Extract the years, number of marriages, and number of divorces for the filtered data\n",
    "years = data_filtered['Year']\n",
    "marriages_per_capita = data_filtered['Marriages_per_1000']\n",
    "divorces_per_capita = data_filtered['Divorces_per_1000']\n",
    "\n",
    "# Set the width of the bars\n",
    "bar_width = 5.35\n",
    "\n",
    "# Create the vertical bar chart\n",
    "plt.bar(years - bar_width/2, marriages_per_capita, bar_width, label='Marriages per Capita')\n",
    "plt.bar(years + bar_width/2, divorces_per_capita, bar_width, label='Divorces per Capita')\n",
    "\n",
    "# Labeling the axes and adding a title\n",
    "plt.xlabel('Year')\n",
    "plt.ylabel('Number per Capita')\n",
    "plt.title('Number of Marriages and Divorces per Capita in the U.S. (1900, 1950, 2000)')\n",
    "\n",
    "# Adding a legend\n",
    "plt.legend()\n",
    "\n",
    "# Display the plot\n",
    "plt.show()\n"
   ]
  },
  {
   "cell_type": "markdown",
   "id": "a68c191c",
   "metadata": {},
   "source": [
    "# Question 8\n",
    "Create a horizontal bar chart that compares the deadliest actors in Hollywood. Sort \n",
    "the actors by their kill count and label each bar with the corresponding actor's name.\n",
    "Don't forget to label your axes!"
   ]
  },
  {
   "cell_type": "code",
   "execution_count": 103,
   "id": "79d0705e",
   "metadata": {},
   "outputs": [],
   "source": [
    "#Step 2: Prepare the data \n",
    "dataset_path = 'actor_kill_counts.csv'\n",
    "data = pd.read_csv(dataset_path)"
   ]
  },
  {
   "cell_type": "code",
   "execution_count": 105,
   "id": "90de4b09",
   "metadata": {},
   "outputs": [],
   "source": [
    "actors_kill_counts = actors_kill_counts.sort_values(by='Count', ascending=False)\n"
   ]
  },
  {
   "cell_type": "code",
   "execution_count": 106,
   "id": "ec87fcbe",
   "metadata": {},
   "outputs": [
    {
     "data": {
      "image/png": "[encoded data removed]",
      "text/plain": [
       "<Figure size 640x480 with 1 Axes>"
      ]
     },
     "metadata": {},
     "output_type": "display_data"
    }
   ],
   "source": [
    "# Extract the actor names and kill counts\n",
    "actors = actors_kill_counts['Actor']\n",
    "kill_counts = actors_kill_counts['Count']\n",
    "\n",
    "# Create the horizontal bar chart\n",
    "plt.barh(actors, kill_counts)\n",
    "\n",
    "# Labeling the axes and adding a title\n",
    "plt.xlabel('Kill Count')\n",
    "plt.ylabel('Actor')\n",
    "plt.title('Deadliest Actors in Hollywood')\n",
    "\n",
    "# Add labels to the bars\n",
    "for index, value in enumerate(kill_counts):\n",
    "    plt.text(value, index, str(value))\n",
    "\n",
    "# Display the plot\n",
    "plt.show()\n"
   ]
  },
  {
   "cell_type": "markdown",
   "id": "5111e538",
   "metadata": {},
   "source": [
    "# Question 9\n",
    "Create a pie chart showing the fraction of all Roman Emperors that were \n",
    "assassinated.\n",
    "Make sure that the pie chart is an even circle, labels the categories, and shows the \n",
    "percentage breakdown of the categories"
   ]
  },
  {
   "cell_type": "code",
   "execution_count": 99,
   "id": "d7b9b326",
   "metadata": {},
   "outputs": [],
   "source": [
    "dataset_path = 'roman-emperor-reigns.csv'\n",
    "data = pd.read_csv(dataset_path)"
   ]
  },
  {
   "cell_type": "code",
   "execution_count": 100,
   "id": "ec0ac580",
   "metadata": {},
   "outputs": [],
   "source": [
    "assassinated_count = data[data['Cause_of_Death'] == 'Assassinated'].shape[0]"
   ]
  },
  {
   "cell_type": "code",
   "execution_count": 101,
   "id": "5dc64313",
   "metadata": {},
   "outputs": [],
   "source": [
    "total_emperors = data.shape[0]\n",
    "fraction_assassinated = assassinated_count / total_emperors"
   ]
  },
  {
   "cell_type": "code",
   "execution_count": 102,
   "id": "a4360890",
   "metadata": {},
   "outputs": [
    {
     "data": {
      "image/png": "[encoded data removed]",
      "text/plain": [
       "<Figure size 640x480 with 1 Axes>"
      ]
     },
     "metadata": {},
     "output_type": "display_data"
    }
   ],
   "source": [
    "# Create a list of categories and corresponding values\n",
    "categories = ['Assassinated', 'Not Assassinated']\n",
    "values = [assassinated_count, total_emperors - assassinated_count]\n",
    "\n",
    "# Create the pie chart\n",
    "plt.pie(values, labels=categories, autopct='%1.1f%%', startangle=90)\n",
    "\n",
    "# Equal aspect ratio ensures that pie is drawn as a circle\n",
    "plt.axis('equal')\n",
    "\n",
    "# Add a title\n",
    "plt.title('Fraction of Roman Emperors Assassinated')\n",
    "\n",
    "# Display the plot\n",
    "plt.show()"
   ]
  },
  {
   "cell_type": "markdown",
   "id": "8b1388dd",
   "metadata": {},
   "source": [
    "# Question 10\n",
    "Create a scatter plot showing the relationship between the total revenue earned by \n",
    "arcades and the number of Computer Science PhDs awarded in the U.S. between \n",
    "2000 and 2009.\n",
    "Don't forget to label your axes!\n",
    "Color each dot according to its year"
   ]
  },
  {
   "cell_type": "code",
   "execution_count": 107,
   "id": "f156e245",
   "metadata": {},
   "outputs": [],
   "source": [
    "dataset_path = 'arcade-revenue-vs-cs-doctorates.csv'\n",
    "data = pd.read_csv(dataset_path)"
   ]
  },
  {
   "cell_type": "code",
   "execution_count": 108,
   "id": "52dad432",
   "metadata": {},
   "outputs": [],
   "source": [
    "# Extract the data for the scatter plot\n",
    "years = data['Year']\n",
    "revenue = data['Total Arcade Revenue (billions)']\n",
    "phd_awards = data['Computer Science Doctorates Awarded (US)']"
   ]
  },
  {
   "cell_type": "code",
   "execution_count": 109,
   "id": "3baf12a8",
   "metadata": {},
   "outputs": [
    {
     "data": {
      "image/png": "[encoded data removed]",
      "text/plain": [
       "<Figure size 640x480 with 2 Axes>"
      ]
     },
     "metadata": {},
     "output_type": "display_data"
    }
   ],
   "source": [
    "# Create the scatter plot\n",
    "plt.scatter(revenue, phd_awards, c=years, cmap='viridis', edgecolors='k', alpha=0.8)\n",
    "\n",
    "# Labeling the axes and adding a title\n",
    "plt.xlabel('Total Arcade Revenue (billions)')\n",
    "plt.ylabel('Computer Science Doctorates Awarded (US)')\n",
    "plt.title('Total Arcade Revenue vs. Computer Science PhDs Awarded (2000-2009)')\n",
    "\n",
    "# Adding a colorbar to show the year information\n",
    "cbar = plt.colorbar()\n",
    "cbar.set_label('Year')\n",
    "\n",
    "# Display the plot\n",
    "plt.show()"
   ]
  },
  {
   "cell_type": "code",
   "execution_count": null,
   "id": "37939804",
   "metadata": {},
   "outputs": [],
   "source": []
  }
 ],
 "metadata": {
  "kernelspec": {
   "display_name": "Python 3 (ipykernel)",
   "language": "python",
   "name": "python3"
  },
  "language_info": {
   "codemirror_mode": {
    "name": "ipython",
    "version": 3
   },
   "file_extension": ".py",
   "mimetype": "text/x-python",
   "name": "python",
   "nbconvert_exporter": "python",
   "pygments_lexer": "ipython3",
   "version": "3.10.9"
  }
 },
 "nbformat": 4,
 "nbformat_minor": 5
}
